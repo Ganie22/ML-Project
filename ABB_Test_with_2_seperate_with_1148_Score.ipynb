{
  "nbformat": 4,
  "nbformat_minor": 0,
  "metadata": {
    "colab": {
      "provenance": []
    },
    "kernelspec": {
      "name": "python3",
      "display_name": "Python 3"
    },
    "language_info": {
      "name": "python"
    }
  },
  "cells": [
    {
      "cell_type": "code",
      "execution_count": 1,
      "metadata": {
        "id": "64P0FFaM7fmj"
      },
      "outputs": [],
      "source": [
        "import pandas as pd\n",
        "import numpy as np\n",
        "import seaborn as sns\n",
        "import matplotlib.pyplot as plt"
      ]
    },
    {
      "cell_type": "code",
      "source": [
        "df_train = pd.read_csv('/content/train_v9rqX0R.csv')\n",
        "df_test = pd.read_csv('/content/test_AbJTz2l.csv')"
      ],
      "metadata": {
        "id": "hr9IciNJ7lIG"
      },
      "execution_count": 2,
      "outputs": []
    },
    {
      "cell_type": "code",
      "source": [
        "print((df_train.isnull().mean() * 100).round(2).sort_values(ascending=False))\n",
        "print((df_test.isnull().mean() * 100).round(2).sort_values(ascending=False))"
      ],
      "metadata": {
        "colab": {
          "base_uri": "https://localhost:8080/"
        },
        "id": "7JXaCP3y7sbW",
        "outputId": "688622f0-09b2-4753-ffa8-d5d062b5d240"
      },
      "execution_count": 3,
      "outputs": [
        {
          "output_type": "stream",
          "name": "stdout",
          "text": [
            "Outlet_Size                  28.28\n",
            "Item_Weight                  17.17\n",
            "Item_Identifier               0.00\n",
            "Item_Fat_Content              0.00\n",
            "Item_Visibility               0.00\n",
            "Item_Type                     0.00\n",
            "Item_MRP                      0.00\n",
            "Outlet_Identifier             0.00\n",
            "Outlet_Establishment_Year     0.00\n",
            "Outlet_Location_Type          0.00\n",
            "Outlet_Type                   0.00\n",
            "Item_Outlet_Sales             0.00\n",
            "dtype: float64\n",
            "Outlet_Size                  28.27\n",
            "Item_Weight                  17.18\n",
            "Item_Identifier               0.00\n",
            "Item_Fat_Content              0.00\n",
            "Item_Visibility               0.00\n",
            "Item_Type                     0.00\n",
            "Item_MRP                      0.00\n",
            "Outlet_Identifier             0.00\n",
            "Outlet_Establishment_Year     0.00\n",
            "Outlet_Location_Type          0.00\n",
            "Outlet_Type                   0.00\n",
            "dtype: float64\n"
          ]
        }
      ]
    },
    {
      "cell_type": "code",
      "source": [
        "df_train2 = df_train.copy()\n",
        "df_test2 = df_test.copy()"
      ],
      "metadata": {
        "id": "FL-ndEIy8HJt"
      },
      "execution_count": 4,
      "outputs": []
    },
    {
      "cell_type": "code",
      "source": [
        "df_train2.info()"
      ],
      "metadata": {
        "colab": {
          "base_uri": "https://localhost:8080/"
        },
        "id": "mY-jbQ9RPUkC",
        "outputId": "17289c1a-215b-4b2b-ac03-5d4d82599428"
      },
      "execution_count": 5,
      "outputs": [
        {
          "output_type": "stream",
          "name": "stdout",
          "text": [
            "<class 'pandas.core.frame.DataFrame'>\n",
            "RangeIndex: 8523 entries, 0 to 8522\n",
            "Data columns (total 12 columns):\n",
            " #   Column                     Non-Null Count  Dtype  \n",
            "---  ------                     --------------  -----  \n",
            " 0   Item_Identifier            8523 non-null   object \n",
            " 1   Item_Weight                7060 non-null   float64\n",
            " 2   Item_Fat_Content           8523 non-null   object \n",
            " 3   Item_Visibility            8523 non-null   float64\n",
            " 4   Item_Type                  8523 non-null   object \n",
            " 5   Item_MRP                   8523 non-null   float64\n",
            " 6   Outlet_Identifier          8523 non-null   object \n",
            " 7   Outlet_Establishment_Year  8523 non-null   int64  \n",
            " 8   Outlet_Size                6113 non-null   object \n",
            " 9   Outlet_Location_Type       8523 non-null   object \n",
            " 10  Outlet_Type                8523 non-null   object \n",
            " 11  Item_Outlet_Sales          8523 non-null   float64\n",
            "dtypes: float64(4), int64(1), object(7)\n",
            "memory usage: 799.2+ KB\n"
          ]
        }
      ]
    },
    {
      "cell_type": "code",
      "source": [
        "df_train2.head()"
      ],
      "metadata": {
        "colab": {
          "base_uri": "https://localhost:8080/",
          "height": 206
        },
        "id": "suwdUgeFShmu",
        "outputId": "accb2c01-d7c6-4a34-af86-348b9a296b7c"
      },
      "execution_count": 6,
      "outputs": [
        {
          "output_type": "execute_result",
          "data": {
            "text/plain": [
              "  Item_Identifier  Item_Weight Item_Fat_Content  Item_Visibility  \\\n",
              "0           FDA15         9.30          Low Fat         0.016047   \n",
              "1           DRC01         5.92          Regular         0.019278   \n",
              "2           FDN15        17.50          Low Fat         0.016760   \n",
              "3           FDX07        19.20          Regular         0.000000   \n",
              "4           NCD19         8.93          Low Fat         0.000000   \n",
              "\n",
              "               Item_Type  Item_MRP Outlet_Identifier  \\\n",
              "0                  Dairy  249.8092            OUT049   \n",
              "1            Soft Drinks   48.2692            OUT018   \n",
              "2                   Meat  141.6180            OUT049   \n",
              "3  Fruits and Vegetables  182.0950            OUT010   \n",
              "4              Household   53.8614            OUT013   \n",
              "\n",
              "   Outlet_Establishment_Year Outlet_Size Outlet_Location_Type  \\\n",
              "0                       1999      Medium               Tier 1   \n",
              "1                       2009      Medium               Tier 3   \n",
              "2                       1999      Medium               Tier 1   \n",
              "3                       1998         NaN               Tier 3   \n",
              "4                       1987        High               Tier 3   \n",
              "\n",
              "         Outlet_Type  Item_Outlet_Sales  \n",
              "0  Supermarket Type1          3735.1380  \n",
              "1  Supermarket Type2           443.4228  \n",
              "2  Supermarket Type1          2097.2700  \n",
              "3      Grocery Store           732.3800  \n",
              "4  Supermarket Type1           994.7052  "
            ],
            "text/html": [
              "\n",
              "  <div id=\"df-04e1b925-c36c-4efe-9473-ec7e358ae6ae\" class=\"colab-df-container\">\n",
              "    <div>\n",
              "<style scoped>\n",
              "    .dataframe tbody tr th:only-of-type {\n",
              "        vertical-align: middle;\n",
              "    }\n",
              "\n",
              "    .dataframe tbody tr th {\n",
              "        vertical-align: top;\n",
              "    }\n",
              "\n",
              "    .dataframe thead th {\n",
              "        text-align: right;\n",
              "    }\n",
              "</style>\n",
              "<table border=\"1\" class=\"dataframe\">\n",
              "  <thead>\n",
              "    <tr style=\"text-align: right;\">\n",
              "      <th></th>\n",
              "      <th>Item_Identifier</th>\n",
              "      <th>Item_Weight</th>\n",
              "      <th>Item_Fat_Content</th>\n",
              "      <th>Item_Visibility</th>\n",
              "      <th>Item_Type</th>\n",
              "      <th>Item_MRP</th>\n",
              "      <th>Outlet_Identifier</th>\n",
              "      <th>Outlet_Establishment_Year</th>\n",
              "      <th>Outlet_Size</th>\n",
              "      <th>Outlet_Location_Type</th>\n",
              "      <th>Outlet_Type</th>\n",
              "      <th>Item_Outlet_Sales</th>\n",
              "    </tr>\n",
              "  </thead>\n",
              "  <tbody>\n",
              "    <tr>\n",
              "      <th>0</th>\n",
              "      <td>FDA15</td>\n",
              "      <td>9.30</td>\n",
              "      <td>Low Fat</td>\n",
              "      <td>0.016047</td>\n",
              "      <td>Dairy</td>\n",
              "      <td>249.8092</td>\n",
              "      <td>OUT049</td>\n",
              "      <td>1999</td>\n",
              "      <td>Medium</td>\n",
              "      <td>Tier 1</td>\n",
              "      <td>Supermarket Type1</td>\n",
              "      <td>3735.1380</td>\n",
              "    </tr>\n",
              "    <tr>\n",
              "      <th>1</th>\n",
              "      <td>DRC01</td>\n",
              "      <td>5.92</td>\n",
              "      <td>Regular</td>\n",
              "      <td>0.019278</td>\n",
              "      <td>Soft Drinks</td>\n",
              "      <td>48.2692</td>\n",
              "      <td>OUT018</td>\n",
              "      <td>2009</td>\n",
              "      <td>Medium</td>\n",
              "      <td>Tier 3</td>\n",
              "      <td>Supermarket Type2</td>\n",
              "      <td>443.4228</td>\n",
              "    </tr>\n",
              "    <tr>\n",
              "      <th>2</th>\n",
              "      <td>FDN15</td>\n",
              "      <td>17.50</td>\n",
              "      <td>Low Fat</td>\n",
              "      <td>0.016760</td>\n",
              "      <td>Meat</td>\n",
              "      <td>141.6180</td>\n",
              "      <td>OUT049</td>\n",
              "      <td>1999</td>\n",
              "      <td>Medium</td>\n",
              "      <td>Tier 1</td>\n",
              "      <td>Supermarket Type1</td>\n",
              "      <td>2097.2700</td>\n",
              "    </tr>\n",
              "    <tr>\n",
              "      <th>3</th>\n",
              "      <td>FDX07</td>\n",
              "      <td>19.20</td>\n",
              "      <td>Regular</td>\n",
              "      <td>0.000000</td>\n",
              "      <td>Fruits and Vegetables</td>\n",
              "      <td>182.0950</td>\n",
              "      <td>OUT010</td>\n",
              "      <td>1998</td>\n",
              "      <td>NaN</td>\n",
              "      <td>Tier 3</td>\n",
              "      <td>Grocery Store</td>\n",
              "      <td>732.3800</td>\n",
              "    </tr>\n",
              "    <tr>\n",
              "      <th>4</th>\n",
              "      <td>NCD19</td>\n",
              "      <td>8.93</td>\n",
              "      <td>Low Fat</td>\n",
              "      <td>0.000000</td>\n",
              "      <td>Household</td>\n",
              "      <td>53.8614</td>\n",
              "      <td>OUT013</td>\n",
              "      <td>1987</td>\n",
              "      <td>High</td>\n",
              "      <td>Tier 3</td>\n",
              "      <td>Supermarket Type1</td>\n",
              "      <td>994.7052</td>\n",
              "    </tr>\n",
              "  </tbody>\n",
              "</table>\n",
              "</div>\n",
              "    <div class=\"colab-df-buttons\">\n",
              "\n",
              "  <div class=\"colab-df-container\">\n",
              "    <button class=\"colab-df-convert\" onclick=\"convertToInteractive('df-04e1b925-c36c-4efe-9473-ec7e358ae6ae')\"\n",
              "            title=\"Convert this dataframe to an interactive table.\"\n",
              "            style=\"display:none;\">\n",
              "\n",
              "  <svg xmlns=\"http://www.w3.org/2000/svg\" height=\"24px\" viewBox=\"0 -960 960 960\">\n",
              "    <path d=\"M120-120v-720h720v720H120Zm60-500h600v-160H180v160Zm220 220h160v-160H400v160Zm0 220h160v-160H400v160ZM180-400h160v-160H180v160Zm440 0h160v-160H620v160ZM180-180h160v-160H180v160Zm440 0h160v-160H620v160Z\"/>\n",
              "  </svg>\n",
              "    </button>\n",
              "\n",
              "  <style>\n",
              "    .colab-df-container {\n",
              "      display:flex;\n",
              "      gap: 12px;\n",
              "    }\n",
              "\n",
              "    .colab-df-convert {\n",
              "      background-color: #E8F0FE;\n",
              "      border: none;\n",
              "      border-radius: 50%;\n",
              "      cursor: pointer;\n",
              "      display: none;\n",
              "      fill: #1967D2;\n",
              "      height: 32px;\n",
              "      padding: 0 0 0 0;\n",
              "      width: 32px;\n",
              "    }\n",
              "\n",
              "    .colab-df-convert:hover {\n",
              "      background-color: #E2EBFA;\n",
              "      box-shadow: 0px 1px 2px rgba(60, 64, 67, 0.3), 0px 1px 3px 1px rgba(60, 64, 67, 0.15);\n",
              "      fill: #174EA6;\n",
              "    }\n",
              "\n",
              "    .colab-df-buttons div {\n",
              "      margin-bottom: 4px;\n",
              "    }\n",
              "\n",
              "    [theme=dark] .colab-df-convert {\n",
              "      background-color: #3B4455;\n",
              "      fill: #D2E3FC;\n",
              "    }\n",
              "\n",
              "    [theme=dark] .colab-df-convert:hover {\n",
              "      background-color: #434B5C;\n",
              "      box-shadow: 0px 1px 3px 1px rgba(0, 0, 0, 0.15);\n",
              "      filter: drop-shadow(0px 1px 2px rgba(0, 0, 0, 0.3));\n",
              "      fill: #FFFFFF;\n",
              "    }\n",
              "  </style>\n",
              "\n",
              "    <script>\n",
              "      const buttonEl =\n",
              "        document.querySelector('#df-04e1b925-c36c-4efe-9473-ec7e358ae6ae button.colab-df-convert');\n",
              "      buttonEl.style.display =\n",
              "        google.colab.kernel.accessAllowed ? 'block' : 'none';\n",
              "\n",
              "      async function convertToInteractive(key) {\n",
              "        const element = document.querySelector('#df-04e1b925-c36c-4efe-9473-ec7e358ae6ae');\n",
              "        const dataTable =\n",
              "          await google.colab.kernel.invokeFunction('convertToInteractive',\n",
              "                                                    [key], {});\n",
              "        if (!dataTable) return;\n",
              "\n",
              "        const docLinkHtml = 'Like what you see? Visit the ' +\n",
              "          '<a target=\"_blank\" href=https://colab.research.google.com/notebooks/data_table.ipynb>data table notebook</a>'\n",
              "          + ' to learn more about interactive tables.';\n",
              "        element.innerHTML = '';\n",
              "        dataTable['output_type'] = 'display_data';\n",
              "        await google.colab.output.renderOutput(dataTable, element);\n",
              "        const docLink = document.createElement('div');\n",
              "        docLink.innerHTML = docLinkHtml;\n",
              "        element.appendChild(docLink);\n",
              "      }\n",
              "    </script>\n",
              "  </div>\n",
              "\n",
              "\n",
              "<div id=\"df-86e86774-1b8e-4db7-bba5-ae53337ad19e\">\n",
              "  <button class=\"colab-df-quickchart\" onclick=\"quickchart('df-86e86774-1b8e-4db7-bba5-ae53337ad19e')\"\n",
              "            title=\"Suggest charts\"\n",
              "            style=\"display:none;\">\n",
              "\n",
              "<svg xmlns=\"http://www.w3.org/2000/svg\" height=\"24px\"viewBox=\"0 0 24 24\"\n",
              "     width=\"24px\">\n",
              "    <g>\n",
              "        <path d=\"M19 3H5c-1.1 0-2 .9-2 2v14c0 1.1.9 2 2 2h14c1.1 0 2-.9 2-2V5c0-1.1-.9-2-2-2zM9 17H7v-7h2v7zm4 0h-2V7h2v10zm4 0h-2v-4h2v4z\"/>\n",
              "    </g>\n",
              "</svg>\n",
              "  </button>\n",
              "\n",
              "<style>\n",
              "  .colab-df-quickchart {\n",
              "      --bg-color: #E8F0FE;\n",
              "      --fill-color: #1967D2;\n",
              "      --hover-bg-color: #E2EBFA;\n",
              "      --hover-fill-color: #174EA6;\n",
              "      --disabled-fill-color: #AAA;\n",
              "      --disabled-bg-color: #DDD;\n",
              "  }\n",
              "\n",
              "  [theme=dark] .colab-df-quickchart {\n",
              "      --bg-color: #3B4455;\n",
              "      --fill-color: #D2E3FC;\n",
              "      --hover-bg-color: #434B5C;\n",
              "      --hover-fill-color: #FFFFFF;\n",
              "      --disabled-bg-color: #3B4455;\n",
              "      --disabled-fill-color: #666;\n",
              "  }\n",
              "\n",
              "  .colab-df-quickchart {\n",
              "    background-color: var(--bg-color);\n",
              "    border: none;\n",
              "    border-radius: 50%;\n",
              "    cursor: pointer;\n",
              "    display: none;\n",
              "    fill: var(--fill-color);\n",
              "    height: 32px;\n",
              "    padding: 0;\n",
              "    width: 32px;\n",
              "  }\n",
              "\n",
              "  .colab-df-quickchart:hover {\n",
              "    background-color: var(--hover-bg-color);\n",
              "    box-shadow: 0 1px 2px rgba(60, 64, 67, 0.3), 0 1px 3px 1px rgba(60, 64, 67, 0.15);\n",
              "    fill: var(--button-hover-fill-color);\n",
              "  }\n",
              "\n",
              "  .colab-df-quickchart-complete:disabled,\n",
              "  .colab-df-quickchart-complete:disabled:hover {\n",
              "    background-color: var(--disabled-bg-color);\n",
              "    fill: var(--disabled-fill-color);\n",
              "    box-shadow: none;\n",
              "  }\n",
              "\n",
              "  .colab-df-spinner {\n",
              "    border: 2px solid var(--fill-color);\n",
              "    border-color: transparent;\n",
              "    border-bottom-color: var(--fill-color);\n",
              "    animation:\n",
              "      spin 1s steps(1) infinite;\n",
              "  }\n",
              "\n",
              "  @keyframes spin {\n",
              "    0% {\n",
              "      border-color: transparent;\n",
              "      border-bottom-color: var(--fill-color);\n",
              "      border-left-color: var(--fill-color);\n",
              "    }\n",
              "    20% {\n",
              "      border-color: transparent;\n",
              "      border-left-color: var(--fill-color);\n",
              "      border-top-color: var(--fill-color);\n",
              "    }\n",
              "    30% {\n",
              "      border-color: transparent;\n",
              "      border-left-color: var(--fill-color);\n",
              "      border-top-color: var(--fill-color);\n",
              "      border-right-color: var(--fill-color);\n",
              "    }\n",
              "    40% {\n",
              "      border-color: transparent;\n",
              "      border-right-color: var(--fill-color);\n",
              "      border-top-color: var(--fill-color);\n",
              "    }\n",
              "    60% {\n",
              "      border-color: transparent;\n",
              "      border-right-color: var(--fill-color);\n",
              "    }\n",
              "    80% {\n",
              "      border-color: transparent;\n",
              "      border-right-color: var(--fill-color);\n",
              "      border-bottom-color: var(--fill-color);\n",
              "    }\n",
              "    90% {\n",
              "      border-color: transparent;\n",
              "      border-bottom-color: var(--fill-color);\n",
              "    }\n",
              "  }\n",
              "</style>\n",
              "\n",
              "  <script>\n",
              "    async function quickchart(key) {\n",
              "      const quickchartButtonEl =\n",
              "        document.querySelector('#' + key + ' button');\n",
              "      quickchartButtonEl.disabled = true;  // To prevent multiple clicks.\n",
              "      quickchartButtonEl.classList.add('colab-df-spinner');\n",
              "      try {\n",
              "        const charts = await google.colab.kernel.invokeFunction(\n",
              "            'suggestCharts', [key], {});\n",
              "      } catch (error) {\n",
              "        console.error('Error during call to suggestCharts:', error);\n",
              "      }\n",
              "      quickchartButtonEl.classList.remove('colab-df-spinner');\n",
              "      quickchartButtonEl.classList.add('colab-df-quickchart-complete');\n",
              "    }\n",
              "    (() => {\n",
              "      let quickchartButtonEl =\n",
              "        document.querySelector('#df-86e86774-1b8e-4db7-bba5-ae53337ad19e button');\n",
              "      quickchartButtonEl.style.display =\n",
              "        google.colab.kernel.accessAllowed ? 'block' : 'none';\n",
              "    })();\n",
              "  </script>\n",
              "</div>\n",
              "\n",
              "    </div>\n",
              "  </div>\n"
            ],
            "application/vnd.google.colaboratory.intrinsic+json": {
              "type": "dataframe",
              "variable_name": "df_train2",
              "summary": "{\n  \"name\": \"df_train2\",\n  \"rows\": 8523,\n  \"fields\": [\n    {\n      \"column\": \"Item_Identifier\",\n      \"properties\": {\n        \"dtype\": \"category\",\n        \"num_unique_values\": 1559,\n        \"samples\": [\n          \"FDY01\",\n          \"FDG05\",\n          \"NCJ29\"\n        ],\n        \"semantic_type\": \"\",\n        \"description\": \"\"\n      }\n    },\n    {\n      \"column\": \"Item_Weight\",\n      \"properties\": {\n        \"dtype\": \"number\",\n        \"std\": 4.643456499186395,\n        \"min\": 4.555,\n        \"max\": 21.35,\n        \"num_unique_values\": 415,\n        \"samples\": [\n          16.75,\n          8.695,\n          7.605\n        ],\n        \"semantic_type\": \"\",\n        \"description\": \"\"\n      }\n    },\n    {\n      \"column\": \"Item_Fat_Content\",\n      \"properties\": {\n        \"dtype\": \"category\",\n        \"num_unique_values\": 5,\n        \"samples\": [\n          \"Regular\",\n          \"reg\",\n          \"low fat\"\n        ],\n        \"semantic_type\": \"\",\n        \"description\": \"\"\n      }\n    },\n    {\n      \"column\": \"Item_Visibility\",\n      \"properties\": {\n        \"dtype\": \"number\",\n        \"std\": 0.051597822321135196,\n        \"min\": 0.0,\n        \"max\": 0.328390948,\n        \"num_unique_values\": 7880,\n        \"samples\": [\n          0.224837308,\n          0.046088273,\n          0.0204702\n        ],\n        \"semantic_type\": \"\",\n        \"description\": \"\"\n      }\n    },\n    {\n      \"column\": \"Item_Type\",\n      \"properties\": {\n        \"dtype\": \"category\",\n        \"num_unique_values\": 16,\n        \"samples\": [\n          \"Dairy\",\n          \"Soft Drinks\",\n          \"Baking Goods\"\n        ],\n        \"semantic_type\": \"\",\n        \"description\": \"\"\n      }\n    },\n    {\n      \"column\": \"Item_MRP\",\n      \"properties\": {\n        \"dtype\": \"number\",\n        \"std\": 62.27506651219039,\n        \"min\": 31.29,\n        \"max\": 266.8884,\n        \"num_unique_values\": 5938,\n        \"samples\": [\n          255.9672,\n          93.512,\n          208.3954\n        ],\n        \"semantic_type\": \"\",\n        \"description\": \"\"\n      }\n    },\n    {\n      \"column\": \"Outlet_Identifier\",\n      \"properties\": {\n        \"dtype\": \"category\",\n        \"num_unique_values\": 10,\n        \"samples\": [\n          \"OUT035\",\n          \"OUT018\",\n          \"OUT045\"\n        ],\n        \"semantic_type\": \"\",\n        \"description\": \"\"\n      }\n    },\n    {\n      \"column\": \"Outlet_Establishment_Year\",\n      \"properties\": {\n        \"dtype\": \"number\",\n        \"std\": 8,\n        \"min\": 1985,\n        \"max\": 2009,\n        \"num_unique_values\": 9,\n        \"samples\": [\n          1997,\n          2009,\n          2002\n        ],\n        \"semantic_type\": \"\",\n        \"description\": \"\"\n      }\n    },\n    {\n      \"column\": \"Outlet_Size\",\n      \"properties\": {\n        \"dtype\": \"category\",\n        \"num_unique_values\": 3,\n        \"samples\": [\n          \"Medium\",\n          \"High\",\n          \"Small\"\n        ],\n        \"semantic_type\": \"\",\n        \"description\": \"\"\n      }\n    },\n    {\n      \"column\": \"Outlet_Location_Type\",\n      \"properties\": {\n        \"dtype\": \"category\",\n        \"num_unique_values\": 3,\n        \"samples\": [\n          \"Tier 1\",\n          \"Tier 3\",\n          \"Tier 2\"\n        ],\n        \"semantic_type\": \"\",\n        \"description\": \"\"\n      }\n    },\n    {\n      \"column\": \"Outlet_Type\",\n      \"properties\": {\n        \"dtype\": \"category\",\n        \"num_unique_values\": 4,\n        \"samples\": [\n          \"Supermarket Type2\",\n          \"Supermarket Type3\",\n          \"Supermarket Type1\"\n        ],\n        \"semantic_type\": \"\",\n        \"description\": \"\"\n      }\n    },\n    {\n      \"column\": \"Item_Outlet_Sales\",\n      \"properties\": {\n        \"dtype\": \"number\",\n        \"std\": 1706.499615733832,\n        \"min\": 33.29,\n        \"max\": 13086.9648,\n        \"num_unique_values\": 3493,\n        \"samples\": [\n          5466.8838,\n          8417.7094,\n          5888.3352\n        ],\n        \"semantic_type\": \"\",\n        \"description\": \"\"\n      }\n    }\n  ]\n}"
            }
          },
          "metadata": {},
          "execution_count": 6
        }
      ]
    },
    {
      "cell_type": "code",
      "source": [
        "from datetime import datetime\n",
        "\n",
        "# Assume a column 'Outlet_Establishment_Year' - Train\n",
        "df_train2['Years_Operating'] = datetime.now().year - df_train2['Outlet_Establishment_Year']\n",
        "\n",
        "# Assume a column 'Outlet_Establishment_Year' - Test\n",
        "df_test2['Years_Operating'] = datetime.now().year - df_test2['Outlet_Establishment_Year']"
      ],
      "metadata": {
        "id": "E0NWVXOO9A3o"
      },
      "execution_count": 7,
      "outputs": []
    },
    {
      "cell_type": "code",
      "source": [
        "# Labeling Item Identifer\n",
        "df_train2['Item_Category'] = df_train2['Item_Identifier'].str[:2]\n",
        "df_train2['Item_Category'].replace({'FD':'Food', 'NC':'Non-Consumable', 'DR':'Drinks'}, inplace=True)\n",
        "\n",
        "# Labeling Item Identifer\n",
        "df_test2['Item_Category'] = df_test2['Item_Identifier'].str[:2]\n",
        "df_test2['Item_Category'].replace({'FD':'Food', 'NC':'Non-Consumable', 'DR':'Drinks'}, inplace=True)"
      ],
      "metadata": {
        "colab": {
          "base_uri": "https://localhost:8080/"
        },
        "id": "dp3Ejt999EMs",
        "outputId": "bd5f5be0-69d5-462d-e3b0-52205361065b"
      },
      "execution_count": 8,
      "outputs": [
        {
          "output_type": "stream",
          "name": "stderr",
          "text": [
            "<ipython-input-8-4f3cd94939e6>:3: FutureWarning: A value is trying to be set on a copy of a DataFrame or Series through chained assignment using an inplace method.\n",
            "The behavior will change in pandas 3.0. This inplace method will never work because the intermediate object on which we are setting values always behaves as a copy.\n",
            "\n",
            "For example, when doing 'df[col].method(value, inplace=True)', try using 'df.method({col: value}, inplace=True)' or df[col] = df[col].method(value) instead, to perform the operation inplace on the original object.\n",
            "\n",
            "\n",
            "  df_train2['Item_Category'].replace({'FD':'Food', 'NC':'Non-Consumable', 'DR':'Drinks'}, inplace=True)\n",
            "<ipython-input-8-4f3cd94939e6>:7: FutureWarning: A value is trying to be set on a copy of a DataFrame or Series through chained assignment using an inplace method.\n",
            "The behavior will change in pandas 3.0. This inplace method will never work because the intermediate object on which we are setting values always behaves as a copy.\n",
            "\n",
            "For example, when doing 'df[col].method(value, inplace=True)', try using 'df.method({col: value}, inplace=True)' or df[col] = df[col].method(value) instead, to perform the operation inplace on the original object.\n",
            "\n",
            "\n",
            "  df_test2['Item_Category'].replace({'FD':'Food', 'NC':'Non-Consumable', 'DR':'Drinks'}, inplace=True)\n"
          ]
        }
      ]
    },
    {
      "cell_type": "code",
      "source": [
        "# Maping Duplicate Item_Fat_Content\n",
        "df_train2['Item_Fat_Content'].replace({'LF':'Low Fat', 'low fat':'Low Fat', 'reg':'Regular'}, inplace=True)\n",
        "\n",
        "df_test2['Item_Fat_Content'].replace({'LF':'Low Fat', 'low fat':'Low Fat', 'reg':'Regular'}, inplace=True)"
      ],
      "metadata": {
        "colab": {
          "base_uri": "https://localhost:8080/"
        },
        "id": "m6h2FWNV9caD",
        "outputId": "6a21cf39-cff3-4924-87d9-d43e5ae050d2"
      },
      "execution_count": 9,
      "outputs": [
        {
          "output_type": "stream",
          "name": "stderr",
          "text": [
            "<ipython-input-9-b18b2b1abc5e>:2: FutureWarning: A value is trying to be set on a copy of a DataFrame or Series through chained assignment using an inplace method.\n",
            "The behavior will change in pandas 3.0. This inplace method will never work because the intermediate object on which we are setting values always behaves as a copy.\n",
            "\n",
            "For example, when doing 'df[col].method(value, inplace=True)', try using 'df.method({col: value}, inplace=True)' or df[col] = df[col].method(value) instead, to perform the operation inplace on the original object.\n",
            "\n",
            "\n",
            "  df_train2['Item_Fat_Content'].replace({'LF':'Low Fat', 'low fat':'Low Fat', 'reg':'Regular'}, inplace=True)\n",
            "<ipython-input-9-b18b2b1abc5e>:4: FutureWarning: A value is trying to be set on a copy of a DataFrame or Series through chained assignment using an inplace method.\n",
            "The behavior will change in pandas 3.0. This inplace method will never work because the intermediate object on which we are setting values always behaves as a copy.\n",
            "\n",
            "For example, when doing 'df[col].method(value, inplace=True)', try using 'df.method({col: value}, inplace=True)' or df[col] = df[col].method(value) instead, to perform the operation inplace on the original object.\n",
            "\n",
            "\n",
            "  df_test2['Item_Fat_Content'].replace({'LF':'Low Fat', 'low fat':'Low Fat', 'reg':'Regular'}, inplace=True)\n"
          ]
        }
      ]
    },
    {
      "cell_type": "code",
      "source": [
        "# Imputation in Item Weight\n",
        "df_train2['Item_Weight'] = df_train2['Item_Weight'].interpolate(method='nearest', axis=0)\n",
        "df_test2['Item_Weight'] = df_test2['Item_Weight'].interpolate(method='nearest', axis=0)"
      ],
      "metadata": {
        "id": "ylzs3hn19sql"
      },
      "execution_count": 10,
      "outputs": []
    },
    {
      "cell_type": "code",
      "source": [
        "sns.histplot(df_train2['Item_Weight'],kde=True)"
      ],
      "metadata": {
        "colab": {
          "base_uri": "https://localhost:8080/",
          "height": 467
        },
        "id": "lvE7ejOneqnJ",
        "outputId": "d49c6c7b-529f-4575-eabd-d1a0bdabb930"
      },
      "execution_count": 11,
      "outputs": [
        {
          "output_type": "execute_result",
          "data": {
            "text/plain": [
              "<Axes: xlabel='Item_Weight', ylabel='Count'>"
            ]
          },
          "metadata": {},
          "execution_count": 11
        },
        {
          "output_type": "display_data",
          "data": {
            "text/plain": [
              "<Figure size 640x480 with 1 Axes>"
            ],
            "image/png": "[encoded data removed]"
          },
          "metadata": {}
        }
      ]
    },
    {
      "cell_type": "code",
      "source": [
        "# from sklearn.impute import KNNImputer\n",
        "# knn_imputer = KNNImputer(n_neighbors=10, weights=\"distance\")\n",
        "# df_train2['Item_Weight']= knn_imputer.fit_transform(df_train2[['Item_Weight']]).ravel()\n",
        "# df_test2['Item_Weight']= knn_imputer.fit_transform(df_test2[['Item_Weight']]).ravel()"
      ],
      "metadata": {
        "id": "nKaTNzoqn7HA"
      },
      "execution_count": 12,
      "outputs": []
    },
    {
      "cell_type": "code",
      "source": [
        "# Imputing Binary Data in Outlet_Size for missing values\n",
        "df_train2['Outlet_Size'] = df_train2['Outlet_Size'].fillna(df_train2.groupby('Outlet_Type')['Outlet_Size'].transform(lambda x: x.mode().iloc[0]))\n",
        "df_test2['Outlet_Size'] = df_test2['Outlet_Size'].fillna(df_test2.groupby('Outlet_Type')['Outlet_Size'].transform(lambda x: x.mode().iloc[0]))"
      ],
      "metadata": {
        "id": "KovbAhLM98l0"
      },
      "execution_count": 13,
      "outputs": []
    },
    {
      "cell_type": "code",
      "source": [
        "# Visibility Imputations & Transformation for Skews\n",
        "from sklearn.preprocessing import PowerTransformer\n",
        "\n",
        "# # Replace 0 values with NaN\n",
        "df_train2['Item_Visibility'] = df_train2['Item_Visibility'].replace(0, np.nan)\n",
        "df_test2['Item_Visibility'] = df_test2['Item_Visibility'].replace(0, np.nan)\n",
        "\n",
        "\n",
        "df_train2['Item_Visibility'] = df_train2['Item_Visibility'].interpolate(method='linear', axis=0)\n",
        "df_test2['Item_Visibility'] = df_test2['Item_Visibility'].interpolate(method='linear', axis=0)\n",
        "\n",
        "\n",
        "pt_yeo = PowerTransformer(method='yeo-johnson')\n",
        "df_train2['Item_Visibility_Transformed'] = pt_yeo.fit_transform(df_train2['Item_Visibility'].values.reshape(-1, 1)).ravel()\n",
        "df_test2['Item_Visibility_Transformed'] = pt_yeo.fit_transform(df_test2['Item_Visibility'].values.reshape(-1, 1)).ravel()\n"
      ],
      "metadata": {
        "id": "BuNTSyN7_FoL"
      },
      "execution_count": 14,
      "outputs": []
    },
    {
      "cell_type": "code",
      "source": [
        "# Update MRP values where Item_MRP > Item_Outlet_Sales to match Item_Outlet_Sales\n",
        "df_train2.loc[df_train2['Item_MRP'] > df_train2['Item_Outlet_Sales'], 'Item_MRP'] = df_train2['Item_Outlet_Sales']\n",
        "\n",
        "true_cases = df_train2[df_train2['Item_MRP'] > df_train2['Item_Outlet_Sales']]"
      ],
      "metadata": {
        "id": "3EQ0BUJSC30g"
      },
      "execution_count": 15,
      "outputs": []
    },
    {
      "cell_type": "code",
      "source": [
        "# Combining Feature\n",
        "\n",
        "df_train2['MRP_Visibility'] = df_train2['Item_MRP'] * df_train2['Item_Visibility']\n",
        "df_test2['MRP_Visibility'] = df_test2['Item_MRP'] * df_test2['Item_Visibility']"
      ],
      "metadata": {
        "id": "BiV-TnM4Kct7"
      },
      "execution_count": 16,
      "outputs": []
    },
    {
      "cell_type": "code",
      "source": [
        "# Price Per Unit\n",
        "df_train2['Price_Per_Unit'] = df_train2['Item_MRP'] / df_train2['Item_Weight']\n",
        "df_test2['Price_Per_Unit'] = df_test2['Item_MRP'] / df_test2['Item_Weight']"
      ],
      "metadata": {
        "id": "0bEDqWbqTt-H"
      },
      "execution_count": 17,
      "outputs": []
    },
    {
      "cell_type": "code",
      "source": [
        "# Item Content Type - Classfication\n",
        "df_train2['Fact_Conetent_Type'] = df_train2['Item_Fat_Content']+\" \"+df_train2['Item_Category']\n",
        "df_test2['Fact_Conetent_Type'] = df_test2['Item_Fat_Content']+\" \"+df_test2['Item_Category']"
      ],
      "metadata": {
        "id": "YMjRuuV5VIqh"
      },
      "execution_count": 18,
      "outputs": []
    },
    {
      "cell_type": "code",
      "source": [
        "# Visibility_Per_Price\n",
        "df_train2['Visibility_Per_Price'] = df_train2['Item_Visibility'] / df_train2['Item_MRP']\n",
        "df_test2['Visibility_Per_Price'] = df_test2['Item_Visibility'] / df_test2['Item_MRP']"
      ],
      "metadata": {
        "id": "jATxlkfxVyB0"
      },
      "execution_count": 19,
      "outputs": []
    },
    {
      "cell_type": "code",
      "source": [
        "# Weight_Fat_Combination\n",
        "df_train2['Weight_Fat_Combination'] = df_train2['Item_Weight'] * df_train2['Item_Fat_Content'].map({'Low Fat': 0, 'Regular': 1})\n",
        "df_test2['Weight_Fat_Combination'] = df_test2['Item_Weight'] * df_test2['Item_Fat_Content'].map({'Low Fat': 0, 'Regular': 1})"
      ],
      "metadata": {
        "id": "RSUFiOdhV4Gs"
      },
      "execution_count": 20,
      "outputs": []
    },
    {
      "cell_type": "code",
      "source": [
        "# Location_Type_Combination - Classfication\n",
        "df_train2['Location_Type_Combination'] = df_train2['Outlet_Location_Type'] + '_' + df_train2['Outlet_Type']\n",
        "df_test2['Location_Type_Combination'] = df_test2['Outlet_Location_Type'] + '_' + df_test2['Outlet_Type']"
      ],
      "metadata": {
        "id": "XASE4FeKWPEr"
      },
      "execution_count": 21,
      "outputs": []
    },
    {
      "cell_type": "code",
      "source": [
        "df_train2.info()"
      ],
      "metadata": {
        "colab": {
          "base_uri": "https://localhost:8080/"
        },
        "id": "4xZPdvZANZeS",
        "outputId": "56e863b5-62bd-4bef-8e7b-8f6638e47fd1"
      },
      "execution_count": 22,
      "outputs": [
        {
          "output_type": "stream",
          "name": "stdout",
          "text": [
            "<class 'pandas.core.frame.DataFrame'>\n",
            "RangeIndex: 8523 entries, 0 to 8522\n",
            "Data columns (total 21 columns):\n",
            " #   Column                       Non-Null Count  Dtype  \n",
            "---  ------                       --------------  -----  \n",
            " 0   Item_Identifier              8523 non-null   object \n",
            " 1   Item_Weight                  8523 non-null   float64\n",
            " 2   Item_Fat_Content             8523 non-null   object \n",
            " 3   Item_Visibility              8523 non-null   float64\n",
            " 4   Item_Type                    8523 non-null   object \n",
            " 5   Item_MRP                     8523 non-null   float64\n",
            " 6   Outlet_Identifier            8523 non-null   object \n",
            " 7   Outlet_Establishment_Year    8523 non-null   int64  \n",
            " 8   Outlet_Size                  8523 non-null   object \n",
            " 9   Outlet_Location_Type         8523 non-null   object \n",
            " 10  Outlet_Type                  8523 non-null   object \n",
            " 11  Item_Outlet_Sales            8523 non-null   float64\n",
            " 12  Years_Operating              8523 non-null   int64  \n",
            " 13  Item_Category                8523 non-null   object \n",
            " 14  Item_Visibility_Transformed  8523 non-null   float64\n",
            " 15  MRP_Visibility               8523 non-null   float64\n",
            " 16  Price_Per_Unit               8523 non-null   float64\n",
            " 17  Fact_Conetent_Type           8523 non-null   object \n",
            " 18  Visibility_Per_Price         8523 non-null   float64\n",
            " 19  Weight_Fat_Combination       8523 non-null   float64\n",
            " 20  Location_Type_Combination    8523 non-null   object \n",
            "dtypes: float64(9), int64(2), object(10)\n",
            "memory usage: 1.4+ MB\n"
          ]
        }
      ]
    },
    {
      "cell_type": "code",
      "source": [
        "from sklearn.preprocessing import LabelEncoder\n",
        "le = LabelEncoder()\n",
        "\n",
        "# Encode the 'City' column\n",
        "df_train2['Item_Identifier'] = le.fit_transform(df_train2['Item_Identifier'])\n",
        "df_train2['Item_Fat_Content'] = le.fit_transform(df_train2['Item_Fat_Content'])\n",
        "df_train2['Item_Type'] = le.fit_transform(df_train2['Item_Type'])\n",
        "df_train2['Outlet_Identifier'] = le.fit_transform(df_train2['Outlet_Identifier'])\n",
        "df_train2['Outlet_Size'] = le.fit_transform(df_train2['Outlet_Size'])\n",
        "df_train2['Outlet_Location_Type'] = le.fit_transform(df_train2['Outlet_Location_Type'])\n",
        "df_train2['Outlet_Type'] = le.fit_transform(df_train2['Outlet_Type'])\n",
        "df_train2['Item_Category'] = le.fit_transform(df_train2['Item_Category'])\n",
        "# df_train2['Fact_Conetent_Type'] = le.fit_transform(df_train2['Fact_Conetent_Type'])\n",
        "# df_train2['Location_Type_Combination'] = le.fit_transform(df_train2['Location_Type_Combination'])"
      ],
      "metadata": {
        "id": "TtBavmjtD6gy"
      },
      "execution_count": 30,
      "outputs": []
    },
    {
      "cell_type": "code",
      "source": [
        "X = df_train2.drop(['Item_Outlet_Sales','Weight_Fat_Combination','Location_Type_Combination','Fact_Conetent_Type'], axis=1)\n",
        "y = df_train2['Item_Outlet_Sales']"
      ],
      "metadata": {
        "id": "3_FVL_uPEPaQ"
      },
      "execution_count": 37,
      "outputs": []
    },
    {
      "cell_type": "code",
      "source": [
        "X.info()"
      ],
      "metadata": {
        "colab": {
          "base_uri": "https://localhost:8080/"
        },
        "id": "cClKI5SMgkwp",
        "outputId": "592beaee-918d-472f-f66b-de9a07b4994b"
      },
      "execution_count": 38,
      "outputs": [
        {
          "output_type": "stream",
          "name": "stdout",
          "text": [
            "<class 'pandas.core.frame.DataFrame'>\n",
            "RangeIndex: 8523 entries, 0 to 8522\n",
            "Data columns (total 17 columns):\n",
            " #   Column                       Non-Null Count  Dtype  \n",
            "---  ------                       --------------  -----  \n",
            " 0   Item_Identifier              8523 non-null   int64  \n",
            " 1   Item_Weight                  8523 non-null   float64\n",
            " 2   Item_Fat_Content             8523 non-null   int64  \n",
            " 3   Item_Visibility              8523 non-null   float64\n",
            " 4   Item_Type                    8523 non-null   int64  \n",
            " 5   Item_MRP                     8523 non-null   float64\n",
            " 6   Outlet_Identifier            8523 non-null   int64  \n",
            " 7   Outlet_Establishment_Year    8523 non-null   int64  \n",
            " 8   Outlet_Size                  8523 non-null   int64  \n",
            " 9   Outlet_Location_Type         8523 non-null   int64  \n",
            " 10  Outlet_Type                  8523 non-null   int64  \n",
            " 11  Years_Operating              8523 non-null   int64  \n",
            " 12  Item_Category                8523 non-null   int64  \n",
            " 13  Item_Visibility_Transformed  8523 non-null   float64\n",
            " 14  MRP_Visibility               8523 non-null   float64\n",
            " 15  Price_Per_Unit               8523 non-null   float64\n",
            " 16  Visibility_Per_Price         8523 non-null   float64\n",
            "dtypes: float64(7), int64(10)\n",
            "memory usage: 1.1 MB\n"
          ]
        }
      ]
    },
    {
      "cell_type": "code",
      "source": [
        "# # Required Libraries\n",
        "\n",
        "from sklearn.model_selection import train_test_split\n",
        "# from sklearn.preprocessing import StandardScaler\n",
        "# from sklearn.linear_model import LinearRegression, Lasso, Ridge, ElasticNet\n",
        "# from sklearn.ensemble import RandomForestRegressor\n",
        "from xgboost import XGBRegressor\n",
        "from sklearn.metrics import mean_squared_error, r2_score ,mean_squared_error ,root_mean_squared_error ,mean_absolute_error\n",
        "\n",
        "# Train-Test Split\n",
        "X_train, X_test, y_train, y_test = train_test_split(X, y, test_size=0.2, random_state=42)\n",
        "\n",
        "# # Standardize features (for linear models)\n",
        "# scaler = StandardScaler()\n",
        "# X_train_scaled = scaler.fit_transform(X_train)\n",
        "# X_test_scaled = scaler.transform(X_test)\n",
        "\n",
        "results = []\n",
        "\n",
        "# Helper to Evaluate Models\n",
        "def evaluate_model(name, y_true, y_pred):\n",
        "    mse = mean_squared_error(y_true, y_pred)\n",
        "    mae = mean_absolute_error(y_true, y_pred)\n",
        "    rmse = np.sqrt(mse)\n",
        "    r2 = r2_score(y_true, y_pred)\n",
        "    results.append({\n",
        "        \"Model\": name,\n",
        "        \"MAE\": round(mae, 4),\n",
        "        \"MSE\": round(mse, 4),\n",
        "        \"RMSE\": round(rmse,4),\n",
        "        \"R² Score\": round(r2, 4)\n",
        "    })\n",
        "# # 1. Linear Regression\n",
        "# lr = LinearRegression()\n",
        "# lr.fit(X_train_scaled, y_train)\n",
        "# y_pred_lr = lr.predict(X_test_scaled)\n",
        "# evaluate_model(\"Linear Regression\", y_test, y_pred_lr)\n",
        "\n",
        "# # 2. Lasso Regression\n",
        "# lasso = Lasso(alpha=0.1)\n",
        "# lasso.fit(X_train_scaled, y_train)\n",
        "# y_pred_lasso = lasso.predict(X_test_scaled)\n",
        "# evaluate_model(\"Lasso Regression\", y_test, y_pred_lasso)\n",
        "\n",
        "# # 3. Ridge Regression\n",
        "# ridge = Ridge(alpha=1.0)\n",
        "# ridge.fit(X_train_scaled, y_train)\n",
        "# y_pred_ridge = ridge.predict(X_test_scaled)\n",
        "# evaluate_model(\"Ridge Regression\", y_test, y_pred_ridge)\n",
        "\n",
        "# # 4. ElasticNet Regression\n",
        "# elastic = ElasticNet(alpha=0.1, l1_ratio=0.5)\n",
        "# elastic.fit(X_train_scaled, y_train)\n",
        "# y_pred_elastic = elastic.predict(X_test_scaled)\n",
        "# evaluate_model(\"ElasticNet Regression\", y_test, y_pred_elastic)\n",
        "\n",
        "# # 5. Random Forest Regressor (no scaling needed)\n",
        "# rf = RandomForestRegressor(n_estimators=100, random_state=42)\n",
        "# rf.fit(X_train, y_train)\n",
        "# y_pred_rf = rf.predict(X_test)\n",
        "# evaluate_model(\"Random Forest\", y_test, y_pred_rf)\n",
        "\n",
        "# 6. XGBoost Regressor (no scaling needed)\n",
        "xgb = XGBRegressor(n_estimators=100, learning_rate=0.1, random_state=42)\n",
        "xgb.fit(X_train, y_train)\n",
        "y_pred_xgb = xgb.predict(X_test)\n",
        "evaluate_model(\"XGBoost\", y_test, y_pred_xgb)\n",
        "\n",
        "# Convert to DataFrame for tabular view\n",
        "results_df = pd.DataFrame(results).sort_values(by=\"R² Score\", ascending=False)\n",
        "print(results_df)\n"
      ],
      "metadata": {
        "colab": {
          "base_uri": "https://localhost:8080/"
        },
        "id": "LCZCqAEnErun",
        "outputId": "efbe5409-981a-4c44-95a5-7c29a7031573"
      },
      "execution_count": 39,
      "outputs": [
        {
          "output_type": "stream",
          "name": "stdout",
          "text": [
            "     Model       MAE           MSE       RMSE  R² Score\n",
            "0  XGBoost  741.2196  1.113568e+06  1055.2573    0.5903\n"
          ]
        }
      ]
    },
    {
      "cell_type": "code",
      "source": [
        "from sklearn.pipeline import Pipeline\n",
        "from sklearn.model_selection import GridSearchCV\n",
        "\n",
        "# Hyperparameter Grid\n",
        "xgb_param_grid = {\n",
        "    'xgb__n_estimators': [100, 200 , 1000],\n",
        "    'xgb__learning_rate': [0.01, 0.1, 0.2],\n",
        "    'xgb__max_depth': [3, 6, 10],\n",
        "    'xgb__booster' : ['gbtree'],\n",
        "    'xgb__tree' : ['auto'],\n",
        "    'xgb__objective' : ['reg:squarederror'],\n",
        "    # 'xgb__min_child_weight' :[3,5],\n",
        "    # 'xgb__gamma' : [0.1],\n",
        "    # 'xgb__subsample' : [0.8],\n",
        "    # 'xgb__colsample_bytree' : [0.8],\n",
        "    # 'xgb__reg_alpha' : [0.1],\n",
        "    # 'xgb__reg_lambda' : [0.1]\n",
        "\n",
        "}\n",
        "\n",
        "# Create Pipeline\n",
        "xgb_pipeline = Pipeline([\n",
        "    ('xgb', XGBRegressor(random_state=42))\n",
        "])\n",
        "\n",
        "# Grid Search\n",
        "xgb_grid_search = GridSearchCV(xgb_pipeline, xgb_param_grid, cv=5, scoring='r2', n_jobs=-1)\n",
        "xgb_grid_search.fit(X, y)\n",
        "\n",
        "# Best XGBoost Model\n",
        "print(\"Best XGBoost R² Score:\", xgb_grid_search.best_score_)\n",
        "print(\"Best XGBoost Parameters:\", xgb_grid_search.best_params_)\n",
        "\n",
        "# Get Top Features Based on Feature Importances\n",
        "xgb_best_model = xgb_grid_search.best_estimator_\n",
        "xgb_importance = xgb_best_model.named_steps['xgb'].feature_importances_\n",
        "xgb_top_features = pd.Series(xgb_importance, index=X.columns).nlargest(5)\n",
        "\n",
        "# Retrain with Top 5 Features\n",
        "X_top_xgb = X[xgb_top_features.index]\n",
        "xgb_best_model.fit(X_top_xgb, y)\n",
        "\n",
        "# Predict and Evaluate Metrics\n",
        "y_pred_xgb = xgb_best_model.predict(X_top_xgb)\n",
        "print(\"XGBoost MSE:\", mean_squared_error(y, y_pred_xgb))\n",
        "print(\"XGBoost RMSE:\", np.sqrt(mean_squared_error(y, y_pred_xgb)))\n",
        "print(\"XGBoost R²:\", r2_score(y, y_pred_xgb))"
      ],
      "metadata": {
        "id": "zttYY-UsFi_H"
      },
      "execution_count": null,
      "outputs": []
    },
    {
      "cell_type": "code",
      "source": [
        "pd.Series(xgb_importance, index=X.columns).sort_values(ascending=False)"
      ],
      "metadata": {
        "id": "PdMtK5zBIHYt"
      },
      "execution_count": null,
      "outputs": []
    },
    {
      "cell_type": "code",
      "source": [
        "# Dictionary to store one encoder per column\n",
        "encoders = {}\n",
        "\n",
        "# List of object columns to encode\n",
        "cols_to_encode = [\n",
        "    'Item_Identifier', 'Item_Fat_Content', 'Item_Type', 'Outlet_Identifier',\n",
        "    'Outlet_Size', 'Outlet_Location_Type', 'Outlet_Type', 'Item_Category',\n",
        "]\n",
        "\n",
        "# Encode each column and store the encoder\n",
        "for col in cols_to_encode:\n",
        "    le = LabelEncoder()\n",
        "    df_test2[col] = le.fit_transform(df_test2[col].astype(str))\n",
        "    encoders[col] = le  # Save for decoding"
      ],
      "metadata": {
        "id": "gJJmgTmMQW3O"
      },
      "execution_count": null,
      "outputs": []
    },
    {
      "cell_type": "code",
      "source": [
        "X_test_data = df_test2"
      ],
      "metadata": {
        "id": "Flu98ncsQiQN"
      },
      "execution_count": null,
      "outputs": []
    },
    {
      "cell_type": "code",
      "source": [
        "# Subset the X_test_data with the top 5 features\n",
        "X_top_5 = X_test_data[xgb_top_features.index]\n",
        "\n",
        "# Use the trained XGBoost model to make predictions on the new data\n",
        "y_pred_new = xgb_best_model.predict(X_top_5)\n",
        "\n",
        "# Output the predictions\n",
        "print(\"Predictions for new data:\", y_pred_new)"
      ],
      "metadata": {
        "id": "Weaz-t_DRABB"
      },
      "execution_count": null,
      "outputs": []
    },
    {
      "cell_type": "code",
      "source": [
        "# Decode each column using its corresponding encoder\n",
        "for col in cols_to_encode:\n",
        "    if col in encoders:\n",
        "        df_test2[col] = encoders[col].inverse_transform(df_test2[col])"
      ],
      "metadata": {
        "id": "Qumwa2WaRarX"
      },
      "execution_count": null,
      "outputs": []
    },
    {
      "cell_type": "code",
      "source": [
        "# Select required columns correctly\n",
        "sub_xgb = df_test2[['Item_Identifier', 'Outlet_Identifier']].copy()\n",
        "\n",
        "# Add predicted values\n",
        "sub_xgb['Item_Outlet_Sales'] = y_pred_new\n",
        "\n",
        "# Sort by predictions\n",
        "sub_xgb = sub_xgb.sort_values(by='Item_Outlet_Sales', ascending=True)\n",
        "\n",
        "# Optional: Reset index\n",
        "sub_xgb.reset_index(drop=True, inplace=True)\n",
        "\n",
        "# Save to CSV without including the index in the CSV file\n",
        "sub_xgb.to_csv('/content/xgb_sumi.csv', index=False)"
      ],
      "metadata": {
        "id": "qrR6ySMxRqBW"
      },
      "execution_count": null,
      "outputs": []
    },
    {
      "cell_type": "code",
      "source": [
        "sub_xgb.head()"
      ],
      "metadata": {
        "id": "EBvjkv-ph7a0"
      },
      "execution_count": null,
      "outputs": []
    }
  ]
}